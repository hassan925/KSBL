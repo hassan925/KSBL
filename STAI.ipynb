{
  "nbformat": 4,
  "nbformat_minor": 0,
  "metadata": {
    "colab": {
      "provenance": [],
      "authorship_tag": "ABX9TyPC2AS5IGOTY6zE1k6t3cqY",
      "include_colab_link": true
    },
    "kernelspec": {
      "name": "python3",
      "display_name": "Python 3"
    },
    "language_info": {
      "name": "python"
    }
  },
  "cells": [
    {
      "cell_type": "markdown",
      "metadata": {
        "id": "view-in-github",
        "colab_type": "text"
      },
      "source": [
        "<a href=\"https://colab.research.google.com/github/hassan925/KSBL/blob/main/STAI.ipynb\" target=\"_parent\"><img src=\"https://colab.research.google.com/assets/colab-badge.svg\" alt=\"Open In Colab\"/></a>"
      ]
    },
    {
      "cell_type": "code",
      "execution_count": 22,
      "metadata": {
        "id": "3jT_odTIcSuA"
      },
      "outputs": [],
      "source": [
        "pip install -q -U google-generativeai"
      ]
    },
    {
      "cell_type": "code",
      "source": [
        "import pathlib\n",
        "import textwrap\n",
        "\n",
        "import google.generativeai as genai\n",
        "\n",
        "from IPython.display import display\n",
        "from IPython.display import Markdown\n",
        "\n",
        "\n",
        "def to_markdown(text):\n",
        "  text = text.replace('•', '  *')\n",
        "  return Markdown(textwrap.indent(text, '> ', predicate=lambda _: True))"
      ],
      "metadata": {
        "id": "6UDNlydTcfQ4"
      },
      "execution_count": 23,
      "outputs": []
    },
    {
      "cell_type": "code",
      "source": [
        "# Used to securely store your API key\n",
        "from google.colab import userdata"
      ],
      "metadata": {
        "id": "rjL4a5pHcvTw"
      },
      "execution_count": 24,
      "outputs": []
    },
    {
      "cell_type": "code",
      "source": [
        "# Using `os.getenv('GOOGLE_API_KEY')` to fetch an environment variable.\n",
        "GOOGLE_API_KEY=userdata.get('GOOGLE_API_KEY')\n",
        "\n",
        "genai.configure(api_key=GOOGLE_API_KEY)"
      ],
      "metadata": {
        "id": "4C32-vZzcy8F"
      },
      "execution_count": 25,
      "outputs": []
    },
    {
      "cell_type": "code",
      "source": [
        "#Use list_models to see the available Gemini models:\n",
        "for m in genai.list_models():\n",
        "  if 'generateContent' in m.supported_generation_methods:\n",
        "    print(m.name)"
      ],
      "metadata": {
        "colab": {
          "base_uri": "https://localhost:8080/",
          "height": 225
        },
        "id": "h9JIX0W_eiH3",
        "outputId": "c18a7d45-4358-4694-bf8d-1198af240e5b"
      },
      "execution_count": 26,
      "outputs": [
        {
          "output_type": "stream",
          "name": "stdout",
          "text": [
            "models/gemini-1.0-pro\n",
            "models/gemini-1.0-pro-001\n",
            "models/gemini-1.0-pro-latest\n",
            "models/gemini-1.0-pro-vision-latest\n",
            "models/gemini-1.5-flash\n",
            "models/gemini-1.5-flash-001\n",
            "models/gemini-1.5-flash-latest\n",
            "models/gemini-1.5-pro\n",
            "models/gemini-1.5-pro-001\n",
            "models/gemini-1.5-pro-latest\n",
            "models/gemini-pro\n",
            "models/gemini-pro-vision\n"
          ]
        }
      ]
    },
    {
      "cell_type": "code",
      "source": [
        "#For text-only prompts, use a Gemini 1.5 model or the Gemini 1.0 Pro model:\n",
        "model = genai.GenerativeModel('gemini-1.5-flash-latest')"
      ],
      "metadata": {
        "id": "Sqw-yOXtlMn6"
      },
      "execution_count": 27,
      "outputs": []
    },
    {
      "cell_type": "code",
      "source": [
        "#The generate_content method can handle a wide variety of use cases, including multi-turn chat and multimodal input,\n",
        "# depending on what the underlying model supports. The available models only support text and images as input,\n",
        "#and text as output.\n",
        "\n",
        "#In the simplest case, you can pass a prompt string to the GenerativeModel.generate_content method:\n",
        "\n",
        "%%time\n",
        "response = model.generate_content(\"Generate a vivid description of a dream scenario, including setting, characters, and events.\")\n",
        "\n",
        "#In simple cases, the response.text accessor is all you need. To display formatted Markdown text, use the to_markdown function:\n",
        "\n",
        "print(response.text)"
      ],
      "metadata": {
        "colab": {
          "base_uri": "https://localhost:8080/",
          "height": 384
        },
        "id": "46g1ghkGlNEA",
        "outputId": "13de3088-b2ac-4437-82c0-48ab5e057e78"
      },
      "execution_count": 31,
      "outputs": [
        {
          "output_type": "stream",
          "name": "stdout",
          "text": [
            "The air hummed with the electric scent of ozone, a metallic tang that prickled my nostrils. I was perched on the edge of a gargantuan, floating city, crafted from swirling, luminous clouds. Beneath me, the earth stretched out like an endless emerald tapestry, dotted with miniature lakes and forests that reflected the light of the impossibly large, double moon. \n",
            "\n",
            "Across the cloud city, a procession of beings, sleek and silver, their bodies morphing and shifting, moved with an almost liquid grace. They were the Cloudwalkers, beings of pure energy who resided in the city, their forms shifting with their thoughts. \n",
            "\n",
            "One, a graceful woman with eyes like spun moonlight, caught my gaze. She smiled, her lips curving into a knowing crescent, and beckoned me closer. I felt a strange pull, a yearning to be near her, to understand the secrets her ethereal eyes held.\n",
            "\n",
            "As I drifted closer, she extended a hand, her fingers like shimmering wisps of silver smoke. The city, as if responding to her touch, began to pulsate, its swirling clouds shifting into intricate patterns that mirrored the movements of the Cloudwalkers. \n",
            "\n",
            "Suddenly, a deep, rumbling sound echoed from the earth below. The ground shuddered, and the miniature forests began to rise, their branches twisting and contorting into colossal, grasping claws. From the heart of the emerald tapestry, a monstrous creature, composed of tangled roots and gnarled branches, emerged, its eyes glowing with a malevolent fire. \n",
            "\n",
            "The Cloudwalkers, their forms hardening into fierce warriors, turned to face the monstrosity. The battle that ensued was a whirlwind of light and shadow, of clashing energies and defiant roars. As the beast’s dark tendrils lashed out, the Cloudwalkers danced and weaved, their silver bodies shimmering with a dazzling brilliance. \n",
            "\n",
            "I watched, mesmerized, as the battle raged, the fate of the cloud city hanging in the balance. The woman with the moonlit eyes fought with a fierce grace, her energy radiating outwards, a beacon of hope amidst the chaos. \n",
            "\n",
            "Then, just as abruptly as it began, the battle ended. The monstrous creature, its dark energy spent, crumbled back into the earth, leaving only a faint tremor in its wake. The cloud city, shimmering and alive, began to heal itself, the wounds inflicted by the beast quickly fading.\n",
            "\n",
            "The woman with the moonlit eyes looked at me, her smile softer now, tinged with a hint of sadness. She touched my hand, her touch leaving a strange warmth that lingered even as she faded into the swirling clouds, a whisper of a promise echoing in my mind: \"You will be back.\" \n",
            "\n",
            "CPU times: user 87.4 ms, sys: 9.95 ms, total: 97.4 ms\n",
            "Wall time: 6.48 s\n"
          ]
        }
      ]
    },
    {
      "cell_type": "code",
      "source": [],
      "metadata": {
        "id": "mFC0reVXdkch"
      },
      "execution_count": null,
      "outputs": []
    }
  ]
}