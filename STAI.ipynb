{
  "nbformat": 4,
  "nbformat_minor": 0,
  "metadata": {
    "colab": {
      "provenance": [],
      "authorship_tag": "ABX9TyPC1Z34Ar6KjhGYU7WGCgPF",
      "include_colab_link": true
    },
    "kernelspec": {
      "name": "python3",
      "display_name": "Python 3"
    },
    "language_info": {
      "name": "python"
    }
  },
  "cells": [
    {
      "cell_type": "markdown",
      "metadata": {
        "id": "view-in-github",
        "colab_type": "text"
      },
      "source": [
        "<a href=\"https://colab.research.google.com/github/hassan925/KSBL/blob/main/STAI.ipynb\" target=\"_parent\"><img src=\"https://colab.research.google.com/assets/colab-badge.svg\" alt=\"Open In Colab\"/></a>"
      ]
    },
    {
      "cell_type": "code",
      "execution_count": null,
      "metadata": {
        "id": "3jT_odTIcSuA"
      },
      "outputs": [],
      "source": [
        "pip install -q -U google-generativeai"
      ]
    },
    {
      "cell_type": "code",
      "source": [
        "import pathlib\n",
        "import textwrap\n",
        "\n",
        "import google.generativeai as genai\n",
        "\n",
        "from IPython.display import display\n",
        "from IPython.display import Markdown\n",
        "\n",
        "\n",
        "def to_markdown(text):\n",
        "  text = text.replace('•', '  *')\n",
        "  return Markdown(textwrap.indent(text, '> ', predicate=lambda _: True))"
      ],
      "metadata": {
        "id": "6UDNlydTcfQ4"
      },
      "execution_count": null,
      "outputs": []
    },
    {
      "cell_type": "code",
      "source": [
        "# Used to securely store your API key\n",
        "from google.colab import userdata"
      ],
      "metadata": {
        "id": "rjL4a5pHcvTw"
      },
      "execution_count": null,
      "outputs": []
    },
    {
      "cell_type": "code",
      "source": [
        "# Using `os.getenv('GOOGLE_API_KEY')` to fetch an environment variable.\n",
        "GOOGLE_API_KEY=userdata.get('GOOGLE_API_KEY')\n",
        "\n",
        "genai.configure(api_key=GOOGLE_API_KEY)"
      ],
      "metadata": {
        "id": "4C32-vZzcy8F"
      },
      "execution_count": null,
      "outputs": []
    },
    {
      "cell_type": "code",
      "source": [
        "#Use list_models to see the available Gemini models:\n",
        "for m in genai.list_models():\n",
        "  if 'generateContent' in m.supported_generation_methods:\n",
        "    print(m.name)"
      ],
      "metadata": {
        "colab": {
          "base_uri": "https://localhost:8080/",
          "height": 225
        },
        "id": "h9JIX0W_eiH3",
        "outputId": "c18a7d45-4358-4694-bf8d-1198af240e5b"
      },
      "execution_count": null,
      "outputs": [
        {
          "output_type": "stream",
          "name": "stdout",
          "text": [
            "models/gemini-1.0-pro\n",
            "models/gemini-1.0-pro-001\n",
            "models/gemini-1.0-pro-latest\n",
            "models/gemini-1.0-pro-vision-latest\n",
            "models/gemini-1.5-flash\n",
            "models/gemini-1.5-flash-001\n",
            "models/gemini-1.5-flash-latest\n",
            "models/gemini-1.5-pro\n",
            "models/gemini-1.5-pro-001\n",
            "models/gemini-1.5-pro-latest\n",
            "models/gemini-pro\n",
            "models/gemini-pro-vision\n"
          ]
        }
      ]
    },
    {
      "cell_type": "code",
      "source": [
        "#For text-only prompts, use a Gemini 1.5 model or the Gemini 1.0 Pro model:\n",
        "model = genai.GenerativeModel('gemini-1.5-flash-latest')"
      ],
      "metadata": {
        "id": "Sqw-yOXtlMn6"
      },
      "execution_count": null,
      "outputs": []
    },
    {
      "cell_type": "code",
      "source": [
        "# Plain prompt\n",
        "\n",
        "#The generate_content method can handle a wide variety of use cases, including multi-turn chat and multimodal input,\n",
        "# depending on what the underlying model supports. The available models only support text and images as input,\n",
        "#and text as output.\n",
        "\n",
        "#In the simplest case, you can pass a prompt string to the GenerativeModel.generate_content method:\n",
        "\n",
        "%%time\n",
        "response = model.generate_content(\"Generate a vivid description of a dream scenario, including setting, characters, and events.\")\n",
        "\n",
        "#In simple cases, the response.text accessor is all you need. To display formatted Markdown text, use the to_markdown function:\n",
        "\n",
        "print(response.text)"
      ],
      "metadata": {
        "colab": {
          "base_uri": "https://localhost:8080/",
          "height": 384
        },
        "id": "46g1ghkGlNEA",
        "outputId": "13de3088-b2ac-4437-82c0-48ab5e057e78"
      },
      "execution_count": null,
      "outputs": [
        {
          "output_type": "stream",
          "name": "stdout",
          "text": [
            "The air hummed with the electric scent of ozone, a metallic tang that prickled my nostrils. I was perched on the edge of a gargantuan, floating city, crafted from swirling, luminous clouds. Beneath me, the earth stretched out like an endless emerald tapestry, dotted with miniature lakes and forests that reflected the light of the impossibly large, double moon. \n",
            "\n",
            "Across the cloud city, a procession of beings, sleek and silver, their bodies morphing and shifting, moved with an almost liquid grace. They were the Cloudwalkers, beings of pure energy who resided in the city, their forms shifting with their thoughts. \n",
            "\n",
            "One, a graceful woman with eyes like spun moonlight, caught my gaze. She smiled, her lips curving into a knowing crescent, and beckoned me closer. I felt a strange pull, a yearning to be near her, to understand the secrets her ethereal eyes held.\n",
            "\n",
            "As I drifted closer, she extended a hand, her fingers like shimmering wisps of silver smoke. The city, as if responding to her touch, began to pulsate, its swirling clouds shifting into intricate patterns that mirrored the movements of the Cloudwalkers. \n",
            "\n",
            "Suddenly, a deep, rumbling sound echoed from the earth below. The ground shuddered, and the miniature forests began to rise, their branches twisting and contorting into colossal, grasping claws. From the heart of the emerald tapestry, a monstrous creature, composed of tangled roots and gnarled branches, emerged, its eyes glowing with a malevolent fire. \n",
            "\n",
            "The Cloudwalkers, their forms hardening into fierce warriors, turned to face the monstrosity. The battle that ensued was a whirlwind of light and shadow, of clashing energies and defiant roars. As the beast’s dark tendrils lashed out, the Cloudwalkers danced and weaved, their silver bodies shimmering with a dazzling brilliance. \n",
            "\n",
            "I watched, mesmerized, as the battle raged, the fate of the cloud city hanging in the balance. The woman with the moonlit eyes fought with a fierce grace, her energy radiating outwards, a beacon of hope amidst the chaos. \n",
            "\n",
            "Then, just as abruptly as it began, the battle ended. The monstrous creature, its dark energy spent, crumbled back into the earth, leaving only a faint tremor in its wake. The cloud city, shimmering and alive, began to heal itself, the wounds inflicted by the beast quickly fading.\n",
            "\n",
            "The woman with the moonlit eyes looked at me, her smile softer now, tinged with a hint of sadness. She touched my hand, her touch leaving a strange warmth that lingered even as she faded into the swirling clouds, a whisper of a promise echoing in my mind: \"You will be back.\" \n",
            "\n",
            "CPU times: user 87.4 ms, sys: 9.95 ms, total: 97.4 ms\n",
            "Wall time: 6.48 s\n"
          ]
        }
      ]
    },
    {
      "cell_type": "code",
      "source": [
        "# Prompt change 1\n",
        "\n",
        "%%time\n",
        "response1 = model.generate_content(\"Role: You are a great short story teller who is expert in telling graphic short stories with lots of drama and passion. Task: A story about a dream scenario, including setting, characters, and events.\")\n",
        "print(response1.text)"
      ],
      "metadata": {
        "id": "mFC0reVXdkch",
        "colab": {
          "base_uri": "https://localhost:8080/",
          "height": 419
        },
        "outputId": "455bb2eb-f641-4c7b-a60c-e20ba34742ba"
      },
      "execution_count": 32,
      "outputs": [
        {
          "output_type": "stream",
          "name": "stdout",
          "text": [
            "The air thrummed with the hum of a thousand cicadas, their song a constant, buzzing counterpoint to the gentle waves lapping against the shore.  The sun, a fiery orb sinking into the ocean, cast long, dramatic shadows across the white sand. It was a scene of unparalleled beauty, a perfect tableau for a dream.\n",
            "\n",
            "But the dream wasn't mine. It was Maya's, a woman I’d known for years, a woman whose life had been a tapestry of grey, woven with threads of hardship and loss. I watched her now, from a distance, a silent observer to her ephemeral happiness. \n",
            "\n",
            "She was laughing, a sound that was as foreign to her as a melody from a forgotten language. Her laughter danced on the wind, a vibrant, joyful sound that echoed across the beach, reaching the ears of a man sitting beside her.\n",
            "\n",
            "He was a vision of golden sunlight, his hair the color of sand, his eyes sparkling like the ocean. He held her hand, his touch gentle, his gaze tender. They were a picture of serenity, a couple lost in their own world, oblivious to the whispers of the wind or the murmur of the waves.\n",
            "\n",
            "For the first time in years, a smile bloomed on Maya's face, a genuine, heartfelt smile that lit up her whole being. It was a smile that had been absent for far too long, a smile that had been lost to the relentless tides of sorrow and grief.\n",
            "\n",
            "I knew, with a sudden clarity, that this wasn't just a dream, it was a wish. A wish whispered into the universe, a wish for a life filled with love and laughter. A wish for a chance at happiness.\n",
            "\n",
            "But as the sun dipped below the horizon, a chill wind swept across the beach, and the dream started to fade. The man's face blurred, the laughter died away, and the colors of the beach turned to shades of grey. \n",
            "\n",
            "Maya’s smile vanished, replaced by a look of vacant sadness. Her eyes, once filled with joy, now reflected the cold, hard reality of her life.\n",
            "\n",
            "I watched, my heart heavy with the weight of her unspoken pain. In that moment, I understood the fragility of dreams, the ephemeral nature of hope.\n",
            "\n",
            "But even as the dream dissipated, a single, fleeting memory remained.  A moment of pure joy, captured in the amber glow of the setting sun, a moment that reminded Maya, and me, that even in the darkest of nights, the possibility of light still flickered. \n",
            "\n",
            "CPU times: user 94.9 ms, sys: 7.96 ms, total: 103 ms\n",
            "Wall time: 7.6 s\n"
          ]
        }
      ]
    },
    {
      "cell_type": "code",
      "source": [
        "#Checking word count\n",
        "print(len(response1.text.split()))"
      ],
      "metadata": {
        "colab": {
          "base_uri": "https://localhost:8080/"
        },
        "id": "OwQNJbCfj044",
        "outputId": "171f6044-6ff7-4dc4-cd60-6cb434246019"
      },
      "execution_count": 35,
      "outputs": [
        {
          "output_type": "stream",
          "name": "stdout",
          "text": [
            "419\n"
          ]
        }
      ]
    },
    {
      "cell_type": "code",
      "source": [
        "# Prompt change 2 - 150 Word Limit\n",
        "\n",
        "%%time\n",
        "response2 = model.generate_content(\"Role: You are a great SHORT story teller who is expert in telling graphic SHORT stories of 150 words with lots of drama and passion. \\\n",
        "Task: A story about a dream scenario, including setting, characters, and events.\")\n",
        "print(response2.text)"
      ],
      "metadata": {
        "colab": {
          "base_uri": "https://localhost:8080/",
          "height": 106
        },
        "id": "eHrjg00flQaa",
        "outputId": "1fb2e149-d5c6-4d1c-c0c2-65788b46b035"
      },
      "execution_count": 37,
      "outputs": [
        {
          "output_type": "stream",
          "name": "stdout",
          "text": [
            "The air thrummed with the scent of salt and pine, the moon casting an ethereal glow on the snow-covered mountain peak.  Anya, breathless, stood at the precipice, her heart pounding a wild rhythm.  Below, a swirling blizzard obscured the valley, a dangerous, beautiful chaos. Beside her, a figure emerged from the swirling mist, his eyes the color of the storm, his smile a spark of warmth.  \"Ready?\" He asked, his voice a whisper on the wind. Anya, her fear replaced by a dizzying thrill, nodded,  and together they leapt, the world shrinking beneath them, as they soared towards the moonlit clouds. \n",
            "\n",
            "CPU times: user 43.7 ms, sys: 2.22 ms, total: 45.9 ms\n",
            "Wall time: 2.64 s\n"
          ]
        }
      ]
    },
    {
      "cell_type": "code",
      "source": [
        "# Prompt change 3 - 150 Word Limit - Adding Focus on characters and events\n",
        "\n",
        "%%time\n",
        "response3 = model.generate_content(\"Role: You are a great SHORT story teller who is expert in telling graphic SHORT stories of 150 words \\\n",
        "with lots of drama and passion. \\ Task: A story about a dream scenario, including setting, characters, and events.\\\n",
        "Focus Area: Focus to defining the characters and events\")\n",
        "print(response3.text)"
      ],
      "metadata": {
        "colab": {
          "base_uri": "https://localhost:8080/",
          "height": 141
        },
        "id": "Ux32Bvajm5sa",
        "outputId": "ae273762-6fba-4573-97b1-6209c2f8ae26"
      },
      "execution_count": 39,
      "outputs": [
        {
          "output_type": "stream",
          "name": "stdout",
          "text": [
            "The dusty, forgotten book crackled in Elena's hand, its pages whispering tales of a hidden realm. A swirling portal shimmered in the moonlight, a gateway to the whispered world. Elena, her heart pounding, stepped through, leaving behind the mundane, the ordinary.\n",
            "\n",
            "She found herself in a vibrant meadow bathed in ethereal light, the air humming with a symphony of unseen creatures. A handsome stranger, eyes like the night sky, approached. \"Welcome, Elena,\" he said, his voice a caress. \"This is your destiny.\" He held out his hand, leading her through the meadows, past whispering waterfalls and ancient trees, to a castle gleaming with iridescent light.  \"This is your kingdom, your power,\" he whispered, eyes blazing with an unspoken promise. \n",
            "\n",
            "CPU times: user 63.9 ms, sys: 7.67 ms, total: 71.6 ms\n",
            "Wall time: 4.52 s\n"
          ]
        }
      ]
    },
    {
      "cell_type": "code",
      "source": [
        "# Prompt change 4 - 150 Word Limit - Adding Focus on characters and events - Adding story category\n",
        "\n",
        "%%time\n",
        "response4 = model.generate_content(\"Role: You are a great SHORT story teller who is expert in telling graphic SHORT stories of 150 words \\\n",
        "with lots of drama and passion. \\ Task: A story about a dream scenario, including setting, characters, and events.\\\n",
        "Focus Area: Focus to defining the characters and events. Story Category: Happiness\")\n",
        "print(response4.text)"
      ],
      "metadata": {
        "colab": {
          "base_uri": "https://localhost:8080/",
          "height": 176
        },
        "id": "3FBTCOJmn7hO",
        "outputId": "7c9b3ce7-21e1-4cb2-b13d-a048e01da5c5"
      },
      "execution_count": 40,
      "outputs": [
        {
          "output_type": "stream",
          "name": "stdout",
          "text": [
            "The sun, a warm hand on her face, woke Amelia. She was lying on a field of wildflowers, the sky a brilliant turquoise. A gentle breeze whispered through the long grass, carrying the scent of honeysuckle.  Beside her, a young man with eyes the color of the sea smiled at her. \"You're finally awake,\" he said, his voice like a melody. \n",
            "\n",
            "They walked hand-in-hand through the field, the flowers swaying around them like dancers. He told her stories of faraway lands, his voice filled with laughter and longing. They shared picnics under ancient trees, the air alive with the song of unseen birds. As the sun dipped below the horizon, painting the sky in fiery hues, he held her close, and she felt a warmth spread through her soul. \n",
            "\n",
            "She woke with a smile, the memory of the dream vivid and real.  A wave of happiness washed over her, leaving her with a lingering feeling of peace and contentment. It was a dream, she knew, but the joy it left behind felt as real as the morning sun. \n",
            "\n",
            "CPU times: user 63.5 ms, sys: 11.7 ms, total: 75.1 ms\n",
            "Wall time: 4.84 s\n"
          ]
        }
      ]
    },
    {
      "cell_type": "code",
      "source": [],
      "metadata": {
        "id": "8o5kGhBRqjRY"
      },
      "execution_count": null,
      "outputs": []
    }
  ]
}